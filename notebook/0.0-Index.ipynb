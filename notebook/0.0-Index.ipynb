{
 "cells": [
  {
   "cell_type": "markdown",
   "source": [
    "<img src=\"https://raw.githubusercontent.com/UCLAMAEThreads/MAE250B/main/notebook/logo_UCLA_blue_boxed.svg\" alt=\"ucla logo\" width=\"150\" align=\"left\"/>"
   ],
   "metadata": {}
  },
  {
   "cell_type": "markdown",
   "source": [
    "### **MAE 250B - Viscous and Turbulent Flows**\n",
    "<hr />"
   ],
   "metadata": {}
  },
  {
   "cell_type": "markdown",
   "source": [
    "These Jupyter notebooks and associated code serve as a companion to the course.\n",
    "\n",
    "These are not static notebooks. **You are encouraged to play with them: run with different parameter values, create other plots, etc.!** The whole point is to enable an understanding of fluid mechanics through interactiveness.\n",
    "\n",
    "*The code is released under the [MIT license](https://opensource.org/licenses/MIT).*\n",
    "<hr />"
   ],
   "metadata": {}
  },
  {
   "cell_type": "markdown",
   "source": [
    "## Table of Notebooks\n",
    "\n",
    "- [Introduction](0.1-WelcomeToJulia.ipynb)\n",
    "\n",
    "#### Chapter 1 -\n",
    "\n",
    "-"
   ],
   "metadata": {}
  },
  {
   "cell_type": "markdown",
   "source": [
    "---\n",
    "\n",
    "*This notebook was generated using [Literate.jl](https://github.com/fredrikekre/Literate.jl).*"
   ],
   "metadata": {}
  }
 ],
 "nbformat_minor": 3,
 "metadata": {
  "language_info": {
   "file_extension": ".jl",
   "mimetype": "application/julia",
   "name": "julia",
   "version": "1.7.1"
  },
  "kernelspec": {
   "name": "julia-1.7",
   "display_name": "Julia 1.7.1",
   "language": "julia"
  }
 },
 "nbformat": 4
}
